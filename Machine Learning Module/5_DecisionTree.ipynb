{
 "cells": [
  {
   "cell_type": "markdown",
   "metadata": {},
   "source": [
    "## IMPORT LIBRARY"
   ]
  },
  {
   "cell_type": "code",
   "execution_count": 1,
   "metadata": {},
   "outputs": [],
   "source": [
    "import pandas as pd\n",
    "import numpy as np"
   ]
  },
  {
   "cell_type": "code",
   "execution_count": 2,
   "metadata": {},
   "outputs": [],
   "source": [
    "data = pd.read_csv('dataset/csgo.csv')"
   ]
  },
  {
   "cell_type": "code",
   "execution_count": 3,
   "metadata": {},
   "outputs": [
    {
     "data": {
      "text/html": [
       "<div>\n",
       "<style scoped>\n",
       "    .dataframe tbody tr th:only-of-type {\n",
       "        vertical-align: middle;\n",
       "    }\n",
       "\n",
       "    .dataframe tbody tr th {\n",
       "        vertical-align: top;\n",
       "    }\n",
       "\n",
       "    .dataframe thead th {\n",
       "        text-align: right;\n",
       "    }\n",
       "</style>\n",
       "<table border=\"1\" class=\"dataframe\">\n",
       "  <thead>\n",
       "    <tr style=\"text-align: right;\">\n",
       "      <th></th>\n",
       "      <th>time_left</th>\n",
       "      <th>ct_score</th>\n",
       "      <th>t_score</th>\n",
       "      <th>map</th>\n",
       "      <th>bomb_planted</th>\n",
       "      <th>ct_health</th>\n",
       "      <th>t_health</th>\n",
       "      <th>ct_armor</th>\n",
       "      <th>t_armor</th>\n",
       "      <th>ct_money</th>\n",
       "      <th>t_money</th>\n",
       "      <th>ct_helmets</th>\n",
       "      <th>t_helmets</th>\n",
       "      <th>round_winner</th>\n",
       "    </tr>\n",
       "  </thead>\n",
       "  <tbody>\n",
       "    <tr>\n",
       "      <th>0</th>\n",
       "      <td>175.00</td>\n",
       "      <td>0.0</td>\n",
       "      <td>0.0</td>\n",
       "      <td>de_dust2</td>\n",
       "      <td>False</td>\n",
       "      <td>500.0</td>\n",
       "      <td>500.0</td>\n",
       "      <td>0.0</td>\n",
       "      <td>0.0</td>\n",
       "      <td>4000.0</td>\n",
       "      <td>4000.0</td>\n",
       "      <td>0.0</td>\n",
       "      <td>0.0</td>\n",
       "      <td>CT</td>\n",
       "    </tr>\n",
       "    <tr>\n",
       "      <th>1</th>\n",
       "      <td>156.03</td>\n",
       "      <td>0.0</td>\n",
       "      <td>0.0</td>\n",
       "      <td>de_dust2</td>\n",
       "      <td>False</td>\n",
       "      <td>500.0</td>\n",
       "      <td>500.0</td>\n",
       "      <td>400.0</td>\n",
       "      <td>300.0</td>\n",
       "      <td>600.0</td>\n",
       "      <td>650.0</td>\n",
       "      <td>0.0</td>\n",
       "      <td>0.0</td>\n",
       "      <td>CT</td>\n",
       "    </tr>\n",
       "    <tr>\n",
       "      <th>2</th>\n",
       "      <td>96.03</td>\n",
       "      <td>0.0</td>\n",
       "      <td>0.0</td>\n",
       "      <td>de_dust2</td>\n",
       "      <td>False</td>\n",
       "      <td>391.0</td>\n",
       "      <td>400.0</td>\n",
       "      <td>294.0</td>\n",
       "      <td>200.0</td>\n",
       "      <td>750.0</td>\n",
       "      <td>500.0</td>\n",
       "      <td>0.0</td>\n",
       "      <td>0.0</td>\n",
       "      <td>CT</td>\n",
       "    </tr>\n",
       "    <tr>\n",
       "      <th>3</th>\n",
       "      <td>76.03</td>\n",
       "      <td>0.0</td>\n",
       "      <td>0.0</td>\n",
       "      <td>de_dust2</td>\n",
       "      <td>False</td>\n",
       "      <td>391.0</td>\n",
       "      <td>400.0</td>\n",
       "      <td>294.0</td>\n",
       "      <td>200.0</td>\n",
       "      <td>750.0</td>\n",
       "      <td>500.0</td>\n",
       "      <td>0.0</td>\n",
       "      <td>0.0</td>\n",
       "      <td>CT</td>\n",
       "    </tr>\n",
       "    <tr>\n",
       "      <th>4</th>\n",
       "      <td>174.97</td>\n",
       "      <td>1.0</td>\n",
       "      <td>0.0</td>\n",
       "      <td>de_dust2</td>\n",
       "      <td>False</td>\n",
       "      <td>500.0</td>\n",
       "      <td>500.0</td>\n",
       "      <td>192.0</td>\n",
       "      <td>0.0</td>\n",
       "      <td>18350.0</td>\n",
       "      <td>10750.0</td>\n",
       "      <td>0.0</td>\n",
       "      <td>0.0</td>\n",
       "      <td>CT</td>\n",
       "    </tr>\n",
       "    <tr>\n",
       "      <th>...</th>\n",
       "      <td>...</td>\n",
       "      <td>...</td>\n",
       "      <td>...</td>\n",
       "      <td>...</td>\n",
       "      <td>...</td>\n",
       "      <td>...</td>\n",
       "      <td>...</td>\n",
       "      <td>...</td>\n",
       "      <td>...</td>\n",
       "      <td>...</td>\n",
       "      <td>...</td>\n",
       "      <td>...</td>\n",
       "      <td>...</td>\n",
       "      <td>...</td>\n",
       "    </tr>\n",
       "    <tr>\n",
       "      <th>1995</th>\n",
       "      <td>74.90</td>\n",
       "      <td>7.0</td>\n",
       "      <td>10.0</td>\n",
       "      <td>de_train</td>\n",
       "      <td>False</td>\n",
       "      <td>327.0</td>\n",
       "      <td>355.0</td>\n",
       "      <td>376.0</td>\n",
       "      <td>183.0</td>\n",
       "      <td>6350.0</td>\n",
       "      <td>13300.0</td>\n",
       "      <td>3.0</td>\n",
       "      <td>1.0</td>\n",
       "      <td>T</td>\n",
       "    </tr>\n",
       "    <tr>\n",
       "      <th>1996</th>\n",
       "      <td>31.23</td>\n",
       "      <td>7.0</td>\n",
       "      <td>10.0</td>\n",
       "      <td>de_train</td>\n",
       "      <td>True</td>\n",
       "      <td>227.0</td>\n",
       "      <td>152.0</td>\n",
       "      <td>276.0</td>\n",
       "      <td>183.0</td>\n",
       "      <td>5000.0</td>\n",
       "      <td>7900.0</td>\n",
       "      <td>2.0</td>\n",
       "      <td>1.0</td>\n",
       "      <td>T</td>\n",
       "    </tr>\n",
       "    <tr>\n",
       "      <th>1997</th>\n",
       "      <td>11.23</td>\n",
       "      <td>7.0</td>\n",
       "      <td>10.0</td>\n",
       "      <td>de_train</td>\n",
       "      <td>True</td>\n",
       "      <td>185.0</td>\n",
       "      <td>105.0</td>\n",
       "      <td>266.0</td>\n",
       "      <td>183.0</td>\n",
       "      <td>5300.0</td>\n",
       "      <td>4450.0</td>\n",
       "      <td>2.0</td>\n",
       "      <td>1.0</td>\n",
       "      <td>T</td>\n",
       "    </tr>\n",
       "    <tr>\n",
       "      <th>1998</th>\n",
       "      <td>174.91</td>\n",
       "      <td>7.0</td>\n",
       "      <td>11.0</td>\n",
       "      <td>de_train</td>\n",
       "      <td>False</td>\n",
       "      <td>500.0</td>\n",
       "      <td>500.0</td>\n",
       "      <td>55.0</td>\n",
       "      <td>0.0</td>\n",
       "      <td>14900.0</td>\n",
       "      <td>32000.0</td>\n",
       "      <td>0.0</td>\n",
       "      <td>0.0</td>\n",
       "      <td>T</td>\n",
       "    </tr>\n",
       "    <tr>\n",
       "      <th>1999</th>\n",
       "      <td>114.90</td>\n",
       "      <td>7.0</td>\n",
       "      <td>11.0</td>\n",
       "      <td>de_train</td>\n",
       "      <td>False</td>\n",
       "      <td>500.0</td>\n",
       "      <td>500.0</td>\n",
       "      <td>355.0</td>\n",
       "      <td>500.0</td>\n",
       "      <td>650.0</td>\n",
       "      <td>6150.0</td>\n",
       "      <td>1.0</td>\n",
       "      <td>5.0</td>\n",
       "      <td>CT</td>\n",
       "    </tr>\n",
       "  </tbody>\n",
       "</table>\n",
       "<p>2000 rows × 14 columns</p>\n",
       "</div>"
      ],
      "text/plain": [
       "      time_left  ct_score  t_score       map  bomb_planted  ct_health  \\\n",
       "0        175.00       0.0      0.0  de_dust2         False      500.0   \n",
       "1        156.03       0.0      0.0  de_dust2         False      500.0   \n",
       "2         96.03       0.0      0.0  de_dust2         False      391.0   \n",
       "3         76.03       0.0      0.0  de_dust2         False      391.0   \n",
       "4        174.97       1.0      0.0  de_dust2         False      500.0   \n",
       "...         ...       ...      ...       ...           ...        ...   \n",
       "1995      74.90       7.0     10.0  de_train         False      327.0   \n",
       "1996      31.23       7.0     10.0  de_train          True      227.0   \n",
       "1997      11.23       7.0     10.0  de_train          True      185.0   \n",
       "1998     174.91       7.0     11.0  de_train         False      500.0   \n",
       "1999     114.90       7.0     11.0  de_train         False      500.0   \n",
       "\n",
       "      t_health  ct_armor  t_armor  ct_money  t_money  ct_helmets  t_helmets  \\\n",
       "0        500.0       0.0      0.0    4000.0   4000.0         0.0        0.0   \n",
       "1        500.0     400.0    300.0     600.0    650.0         0.0        0.0   \n",
       "2        400.0     294.0    200.0     750.0    500.0         0.0        0.0   \n",
       "3        400.0     294.0    200.0     750.0    500.0         0.0        0.0   \n",
       "4        500.0     192.0      0.0   18350.0  10750.0         0.0        0.0   \n",
       "...        ...       ...      ...       ...      ...         ...        ...   \n",
       "1995     355.0     376.0    183.0    6350.0  13300.0         3.0        1.0   \n",
       "1996     152.0     276.0    183.0    5000.0   7900.0         2.0        1.0   \n",
       "1997     105.0     266.0    183.0    5300.0   4450.0         2.0        1.0   \n",
       "1998     500.0      55.0      0.0   14900.0  32000.0         0.0        0.0   \n",
       "1999     500.0     355.0    500.0     650.0   6150.0         1.0        5.0   \n",
       "\n",
       "     round_winner  \n",
       "0              CT  \n",
       "1              CT  \n",
       "2              CT  \n",
       "3              CT  \n",
       "4              CT  \n",
       "...           ...  \n",
       "1995            T  \n",
       "1996            T  \n",
       "1997            T  \n",
       "1998            T  \n",
       "1999           CT  \n",
       "\n",
       "[2000 rows x 14 columns]"
      ]
     },
     "execution_count": 3,
     "metadata": {},
     "output_type": "execute_result"
    }
   ],
   "source": [
    "data"
   ]
  },
  {
   "cell_type": "code",
   "execution_count": 4,
   "metadata": {},
   "outputs": [
    {
     "name": "stdout",
     "output_type": "stream",
     "text": [
      "<class 'pandas.core.frame.DataFrame'>\n",
      "RangeIndex: 2000 entries, 0 to 1999\n",
      "Data columns (total 14 columns):\n",
      " #   Column        Non-Null Count  Dtype  \n",
      "---  ------        --------------  -----  \n",
      " 0   time_left     2000 non-null   float64\n",
      " 1   ct_score      2000 non-null   float64\n",
      " 2   t_score       2000 non-null   float64\n",
      " 3   map           2000 non-null   object \n",
      " 4   bomb_planted  2000 non-null   bool   \n",
      " 5   ct_health     2000 non-null   float64\n",
      " 6   t_health      2000 non-null   float64\n",
      " 7   ct_armor      2000 non-null   float64\n",
      " 8   t_armor       2000 non-null   float64\n",
      " 9   ct_money      2000 non-null   float64\n",
      " 10  t_money       2000 non-null   float64\n",
      " 11  ct_helmets    2000 non-null   float64\n",
      " 12  t_helmets     2000 non-null   float64\n",
      " 13  round_winner  2000 non-null   object \n",
      "dtypes: bool(1), float64(11), object(2)\n",
      "memory usage: 205.2+ KB\n"
     ]
    }
   ],
   "source": [
    "data.info()"
   ]
  },
  {
   "cell_type": "code",
   "execution_count": 5,
   "metadata": {},
   "outputs": [
    {
     "data": {
      "text/html": [
       "<div>\n",
       "<style scoped>\n",
       "    .dataframe tbody tr th:only-of-type {\n",
       "        vertical-align: middle;\n",
       "    }\n",
       "\n",
       "    .dataframe tbody tr th {\n",
       "        vertical-align: top;\n",
       "    }\n",
       "\n",
       "    .dataframe thead th {\n",
       "        text-align: right;\n",
       "    }\n",
       "</style>\n",
       "<table border=\"1\" class=\"dataframe\">\n",
       "  <thead>\n",
       "    <tr style=\"text-align: right;\">\n",
       "      <th></th>\n",
       "      <th>time_left</th>\n",
       "      <th>ct_score</th>\n",
       "      <th>t_score</th>\n",
       "      <th>ct_health</th>\n",
       "      <th>t_health</th>\n",
       "      <th>ct_armor</th>\n",
       "      <th>t_armor</th>\n",
       "      <th>ct_money</th>\n",
       "      <th>t_money</th>\n",
       "      <th>ct_helmets</th>\n",
       "      <th>t_helmets</th>\n",
       "    </tr>\n",
       "  </thead>\n",
       "  <tbody>\n",
       "    <tr>\n",
       "      <th>count</th>\n",
       "      <td>2000.000000</td>\n",
       "      <td>2000.000000</td>\n",
       "      <td>2000.00000</td>\n",
       "      <td>2000.000000</td>\n",
       "      <td>2000.000000</td>\n",
       "      <td>2000.000000</td>\n",
       "      <td>2000.00000</td>\n",
       "      <td>2000.000000</td>\n",
       "      <td>2000.000000</td>\n",
       "      <td>2000.000000</td>\n",
       "      <td>2000.000000</td>\n",
       "    </tr>\n",
       "    <tr>\n",
       "      <th>mean</th>\n",
       "      <td>95.630205</td>\n",
       "      <td>6.840000</td>\n",
       "      <td>6.28850</td>\n",
       "      <td>406.170500</td>\n",
       "      <td>402.987500</td>\n",
       "      <td>306.749000</td>\n",
       "      <td>309.54450</td>\n",
       "      <td>7867.350000</td>\n",
       "      <td>12377.600000</td>\n",
       "      <td>1.821500</td>\n",
       "      <td>3.009500</td>\n",
       "    </tr>\n",
       "    <tr>\n",
       "      <th>std</th>\n",
       "      <td>53.734491</td>\n",
       "      <td>4.233599</td>\n",
       "      <td>4.19059</td>\n",
       "      <td>137.616258</td>\n",
       "      <td>137.699186</td>\n",
       "      <td>172.857221</td>\n",
       "      <td>168.68957</td>\n",
       "      <td>9017.491838</td>\n",
       "      <td>12209.581798</td>\n",
       "      <td>1.774884</td>\n",
       "      <td>1.960952</td>\n",
       "    </tr>\n",
       "    <tr>\n",
       "      <th>min</th>\n",
       "      <td>0.050000</td>\n",
       "      <td>0.000000</td>\n",
       "      <td>0.00000</td>\n",
       "      <td>2.000000</td>\n",
       "      <td>0.000000</td>\n",
       "      <td>0.000000</td>\n",
       "      <td>0.00000</td>\n",
       "      <td>0.000000</td>\n",
       "      <td>0.000000</td>\n",
       "      <td>0.000000</td>\n",
       "      <td>0.000000</td>\n",
       "    </tr>\n",
       "    <tr>\n",
       "      <th>25%</th>\n",
       "      <td>54.910000</td>\n",
       "      <td>3.000000</td>\n",
       "      <td>3.00000</td>\n",
       "      <td>315.750000</td>\n",
       "      <td>328.750000</td>\n",
       "      <td>188.000000</td>\n",
       "      <td>190.00000</td>\n",
       "      <td>1200.000000</td>\n",
       "      <td>1700.000000</td>\n",
       "      <td>0.000000</td>\n",
       "      <td>1.000000</td>\n",
       "    </tr>\n",
       "    <tr>\n",
       "      <th>50%</th>\n",
       "      <td>94.910000</td>\n",
       "      <td>7.000000</td>\n",
       "      <td>6.00000</td>\n",
       "      <td>500.000000</td>\n",
       "      <td>500.000000</td>\n",
       "      <td>300.000000</td>\n",
       "      <td>362.00000</td>\n",
       "      <td>4000.000000</td>\n",
       "      <td>9075.000000</td>\n",
       "      <td>1.000000</td>\n",
       "      <td>4.000000</td>\n",
       "    </tr>\n",
       "    <tr>\n",
       "      <th>75%</th>\n",
       "      <td>156.425000</td>\n",
       "      <td>10.000000</td>\n",
       "      <td>10.00000</td>\n",
       "      <td>500.000000</td>\n",
       "      <td>500.000000</td>\n",
       "      <td>488.000000</td>\n",
       "      <td>467.00000</td>\n",
       "      <td>11762.500000</td>\n",
       "      <td>19250.000000</td>\n",
       "      <td>3.000000</td>\n",
       "      <td>5.000000</td>\n",
       "    </tr>\n",
       "    <tr>\n",
       "      <th>max</th>\n",
       "      <td>175.000000</td>\n",
       "      <td>15.000000</td>\n",
       "      <td>15.00000</td>\n",
       "      <td>500.000000</td>\n",
       "      <td>500.000000</td>\n",
       "      <td>500.000000</td>\n",
       "      <td>500.00000</td>\n",
       "      <td>58050.000000</td>\n",
       "      <td>67700.000000</td>\n",
       "      <td>5.000000</td>\n",
       "      <td>5.000000</td>\n",
       "    </tr>\n",
       "  </tbody>\n",
       "</table>\n",
       "</div>"
      ],
      "text/plain": [
       "         time_left     ct_score     t_score    ct_health     t_health  \\\n",
       "count  2000.000000  2000.000000  2000.00000  2000.000000  2000.000000   \n",
       "mean     95.630205     6.840000     6.28850   406.170500   402.987500   \n",
       "std      53.734491     4.233599     4.19059   137.616258   137.699186   \n",
       "min       0.050000     0.000000     0.00000     2.000000     0.000000   \n",
       "25%      54.910000     3.000000     3.00000   315.750000   328.750000   \n",
       "50%      94.910000     7.000000     6.00000   500.000000   500.000000   \n",
       "75%     156.425000    10.000000    10.00000   500.000000   500.000000   \n",
       "max     175.000000    15.000000    15.00000   500.000000   500.000000   \n",
       "\n",
       "          ct_armor     t_armor      ct_money       t_money   ct_helmets  \\\n",
       "count  2000.000000  2000.00000   2000.000000   2000.000000  2000.000000   \n",
       "mean    306.749000   309.54450   7867.350000  12377.600000     1.821500   \n",
       "std     172.857221   168.68957   9017.491838  12209.581798     1.774884   \n",
       "min       0.000000     0.00000      0.000000      0.000000     0.000000   \n",
       "25%     188.000000   190.00000   1200.000000   1700.000000     0.000000   \n",
       "50%     300.000000   362.00000   4000.000000   9075.000000     1.000000   \n",
       "75%     488.000000   467.00000  11762.500000  19250.000000     3.000000   \n",
       "max     500.000000   500.00000  58050.000000  67700.000000     5.000000   \n",
       "\n",
       "         t_helmets  \n",
       "count  2000.000000  \n",
       "mean      3.009500  \n",
       "std       1.960952  \n",
       "min       0.000000  \n",
       "25%       1.000000  \n",
       "50%       4.000000  \n",
       "75%       5.000000  \n",
       "max       5.000000  "
      ]
     },
     "execution_count": 5,
     "metadata": {},
     "output_type": "execute_result"
    }
   ],
   "source": [
    "#cek statistik data\n",
    "data.describe() "
   ]
  },
  {
   "cell_type": "code",
   "execution_count": 6,
   "metadata": {},
   "outputs": [
    {
     "name": "stdout",
     "output_type": "stream",
     "text": [
      "['de_dust2' 'de_mirage' 'de_nuke' 'de_inferno' 'de_overpass' 'de_vertigo'\n",
      " 'de_train']\n"
     ]
    }
   ],
   "source": [
    "#menampilkan nilai atribut suatu atribut yang dipanggil\n",
    "print (data['map'].unique()) "
   ]
  },
  {
   "cell_type": "code",
   "execution_count": 7,
   "metadata": {},
   "outputs": [
    {
     "name": "stdout",
     "output_type": "stream",
     "text": [
      "[False  True]\n"
     ]
    }
   ],
   "source": [
    "print (data['bomb_planted'].unique())"
   ]
  },
  {
   "cell_type": "code",
   "execution_count": 8,
   "metadata": {},
   "outputs": [
    {
     "name": "stdout",
     "output_type": "stream",
     "text": [
      "['CT' 'T']\n"
     ]
    }
   ],
   "source": [
    "print (data['round_winner'].unique())"
   ]
  },
  {
   "cell_type": "code",
   "execution_count": 9,
   "metadata": {},
   "outputs": [
    {
     "name": "stdout",
     "output_type": "stream",
     "text": [
      "0       CT\n",
      "1       CT\n",
      "2       CT\n",
      "3       CT\n",
      "4       CT\n",
      "        ..\n",
      "1995     T\n",
      "1996     T\n",
      "1997     T\n",
      "1998     T\n",
      "1999    CT\n",
      "Name: round_winner, Length: 2000, dtype: object\n"
     ]
    }
   ],
   "source": [
    "print (data['round_winner'])"
   ]
  },
  {
   "cell_type": "markdown",
   "metadata": {},
   "source": [
    "## PREPROCESSING DATA"
   ]
  },
  {
   "cell_type": "code",
   "execution_count": 10,
   "metadata": {},
   "outputs": [],
   "source": [
    "from sklearn.preprocessing import LabelEncoder\n",
    "\n",
    "for col in ['map', 'bomb_planted', 'round_winner']:\n",
    "    le = LabelEncoder()\n",
    "    data[col] = le.fit_transform(data[col])"
   ]
  },
  {
   "cell_type": "code",
   "execution_count": 11,
   "metadata": {},
   "outputs": [
    {
     "name": "stdout",
     "output_type": "stream",
     "text": [
      "[0 2 3 1 4 6 5] [0 1] [0 1]\n"
     ]
    }
   ],
   "source": [
    "print (data['map'].unique(), data['bomb_planted'].unique(), data['round_winner'].unique())"
   ]
  },
  {
   "cell_type": "code",
   "execution_count": 12,
   "metadata": {},
   "outputs": [],
   "source": [
    "x = np.asarray(data.drop(['round_winner'], axis=1))\n",
    "y = np.asarray(data['round_winner'])"
   ]
  },
  {
   "cell_type": "markdown",
   "metadata": {},
   "source": [
    "## SPLIT DATA"
   ]
  },
  {
   "cell_type": "code",
   "execution_count": 13,
   "metadata": {},
   "outputs": [],
   "source": [
    "from sklearn.model_selection import train_test_split\n",
    "x_train, x_test, y_train, y_test = train_test_split(x, y, test_size = 0.3, random_state=0)"
   ]
  },
  {
   "cell_type": "markdown",
   "metadata": {},
   "source": [
    "## JIKA STANDAR DEVIASI TERLALU JAUH"
   ]
  },
  {
   "cell_type": "code",
   "execution_count": 14,
   "metadata": {},
   "outputs": [],
   "source": [
    "from sklearn.preprocessing import StandardScaler\n",
    "\n",
    "scaler = StandardScaler()\n",
    "x_train = scaler.fit_transform(x_train)\n",
    "x_test = scaler.fit_transform(x_test)"
   ]
  },
  {
   "cell_type": "markdown",
   "metadata": {},
   "source": [
    "## MODEL DECISION TREE"
   ]
  },
  {
   "cell_type": "code",
   "execution_count": 15,
   "metadata": {},
   "outputs": [
    {
     "data": {
      "text/plain": [
       "DecisionTreeClassifier(max_depth=4)"
      ]
     },
     "execution_count": 15,
     "metadata": {},
     "output_type": "execute_result"
    }
   ],
   "source": [
    "from sklearn.tree import DecisionTreeClassifier\n",
    "\n",
    "model = DecisionTreeClassifier(max_depth=4) #max dept untuk kedalaman tree tapi mengurangi akurasi\n",
    "model.fit(x_train, y_train)\n",
    "\n"
   ]
  },
  {
   "cell_type": "code",
   "execution_count": 16,
   "metadata": {},
   "outputs": [
    {
     "data": {
      "image/png": "[encoded data removed]",
      "text/plain": [
       "<Figure size 1440x720 with 1 Axes>"
      ]
     },
     "metadata": {
      "needs_background": "light"
     },
     "output_type": "display_data"
    }
   ],
   "source": [
    "import matplotlib.pyplot as plt\n",
    "from sklearn import tree\n",
    "\n",
    "plt.subplots(figsize = (20, 10))\n",
    "tree.plot_tree(model, fontsize=10)\n",
    "plt.show()"
   ]
  },
  {
   "cell_type": "code",
   "execution_count": 17,
   "metadata": {},
   "outputs": [],
   "source": [
    "predict = model.predict(x_test)"
   ]
  },
  {
   "cell_type": "code",
   "execution_count": 18,
   "metadata": {},
   "outputs": [
    {
     "name": "stdout",
     "output_type": "stream",
     "text": [
      "Accuracy score:  71.0\n"
     ]
    }
   ],
   "source": [
    "from sklearn.metrics import accuracy_score\n",
    "\n",
    "print(\"Accuracy score: \", accuracy_score(y_test,predict) * 100)"
   ]
  }
 ],
 "metadata": {
  "kernelspec": {
   "display_name": "Python 3 (ipykernel)",
   "language": "python",
   "name": "python3"
  },
  "language_info": {
   "codemirror_mode": {
    "name": "ipython",
    "version": 3
   },
   "file_extension": ".py",
   "mimetype": "text/x-python",
   "name": "python",
   "nbconvert_exporter": "python",
   "pygments_lexer": "ipython3",
   "version": "3.9.12"
  }
 },
 "nbformat": 4,
 "nbformat_minor": 4
}
